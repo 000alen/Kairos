{
 "cells": [
  {
   "cell_type": "code",
   "execution_count": 8,
   "metadata": {},
   "outputs": [],
   "source": [
    "from notebook import Notebook\n"
   ]
  },
  {
   "cell_type": "code",
   "execution_count": 9,
   "metadata": {},
   "outputs": [
    {
     "name": "stderr",
     "output_type": "stream",
     "text": [
      "DEBUG:root:Loading notebook: path='notebooks/genetic_algorithms'\n",
      "DEBUG:root:Initializing notebook: name='Genetic Algorithms', path='notebooks/genetic_algorithms', verbose=False\n",
      "DEBUG:root:Initializing agent: _llm=OpenAI(cache=None, verbose=False, callback_manager=<langchain.callbacks.shared.SharedCallbackManager object at 0x7f56868c6c80>, client=<class 'openai.api_resources.completion.Completion'>, model_name='text-davinci-003', temperature=0.3, max_tokens=-1, top_p=1, frequency_penalty=0, presence_penalty=0, n=1, best_of=1, model_kwargs={}, openai_api_key=None, batch_size=20, request_timeout=None, logit_bias={}, max_retries=6, streaming=False) self._tools=[Tool(name='Search', func=<bound method Notebook._search_tool_func of <notebook.Notebook object at 0x7f56842e92a0>>, description='useful for when you need to find something on the internet', return_direct=False, coroutine=None), Tool(name='Calculator', func=<bound method Chain.run of LLMMathChain(memory=None, callback_manager=<langchain.callbacks.shared.SharedCallbackManager object at 0x7f56868c6c80>, verbose=False, llm=OpenAI(cache=None, verbose=False, callback_manager=<langchain.callbacks.shared.SharedCallbackManager object at 0x7f56868c6c80>, client=<class 'openai.api_resources.completion.Completion'>, model_name='text-davinci-003', temperature=0.3, max_tokens=-1, top_p=1, frequency_penalty=0, presence_penalty=0, n=1, best_of=1, model_kwargs={}, openai_api_key=None, batch_size=20, request_timeout=None, logit_bias={}, max_retries=6, streaming=False), prompt=PromptTemplate(input_variables=['question'], output_parser=None, template=\"You are GPT-3, and you can't do math.\\n\\nYou can do basic math, and your memorization abilities are impressive, but you can't do any complex calculations that a human could not do in their head. You also have an annoying tendency to just make up highly specific, but wrong, answers.\\n\\nSo we hooked you up to a Python 3 kernel, and now you can execute code. If anyone gives you a hard math problem, just use this format and we’ll take care of the rest:\\n\\nQuestion: ${{Question with hard calculation.}}\\n```python\\n${{Code that prints what you need to know}}\\n```\\n```output\\n${{Output of your code}}\\n```\\nAnswer: ${{Answer}}\\n\\nOtherwise, use this simpler format:\\n\\nQuestion: ${{Question without hard calculation}}\\nAnswer: ${{Answer}}\\n\\nBegin.\\n\\nQuestion: What is 37593 * 67?\\n\\n```python\\nprint(37593 * 67)\\n```\\n```output\\n2518731\\n```\\nAnswer: 2518731\\n\\nQuestion: {question}\\n\", template_format='f-string', validate_template=True), input_key='question', output_key='answer')>, description='useful for when you need to answer questions about math', return_direct=False, coroutine=None)] _AGENT='zero-shot-react-description' verbose=False\n",
      "DEBUG:root:Loading FAISS index: path='notebooks/genetic_algorithms', _embeddings=OpenAIEmbeddings(client=<class 'openai.api_resources.embedding.Embedding'>, document_model_name='text-embedding-ada-002', query_model_name='text-embedding-ada-002', embedding_ctx_length=-1, openai_api_key=None)\n"
     ]
    }
   ],
   "source": [
    "ga = Notebook.load(\"notebooks/genetic_algorithms\")\n"
   ]
  },
  {
   "cell_type": "code",
   "execution_count": null,
   "metadata": {},
   "outputs": [],
   "source": [
    "# ga.run(\"Write an introduction paragraph to genetic algorithms.\")\n"
   ]
  },
  {
   "cell_type": "code",
   "execution_count": null,
   "metadata": {},
   "outputs": [],
   "source": [
    "ga.start_live_source(\"sound\")\n"
   ]
  },
  {
   "cell_type": "code",
   "execution_count": null,
   "metadata": {},
   "outputs": [],
   "source": [
    "ga.stop_live_source(\"sound\")\n"
   ]
  },
  {
   "cell_type": "code",
   "execution_count": null,
   "metadata": {},
   "outputs": [],
   "source": [
    "ga.save()\n"
   ]
  },
  {
   "cell_type": "code",
   "execution_count": 10,
   "metadata": {},
   "outputs": [
    {
     "data": {
      "text/plain": [
       "[{'type': 'web',\n",
       "  'origin': 'https://www.tutorialspoint.com/genetic_algorithms/genetic_algorithms_introduction.htm#',\n",
       "  'ids': []},\n",
       " {'type': 'youtube',\n",
       "  'origin': 'https://www.youtube.com/watch?v=GOFws_hhZs8&ab_channel=carykh',\n",
       "  'ids': []},\n",
       " {'type': 'youtube',\n",
       "  'origin': 'https://www.youtube.com/watch?v=1i8muvzZkPw&ab_channel=MATLAB',\n",
       "  'ids': []},\n",
       " {'type': 'youtube',\n",
       "  'origin': 'https://www.youtube.com/watch?v=oSdPmxRCWws&t=31s&ab_channel=Computerphile',\n",
       "  'ids': []},\n",
       " {'type': 'web',\n",
       "  'origin': 'https://randalolson.com/2015/02/03/heres-waldo-computing-the-optimal-search-strategy-for-finding-waldo/',\n",
       "  'ids': []},\n",
       " {'type': 'web',\n",
       "  'origin': 'https://www.tutorialspoint.com/genetic_algorithms/genetic_algorithms_population.htm',\n",
       "  'ids': []}]"
      ]
     },
     "execution_count": 10,
     "metadata": {},
     "output_type": "execute_result"
    }
   ],
   "source": [
    "ga.sources\n"
   ]
  },
  {
   "cell_type": "code",
   "execution_count": null,
   "metadata": {},
   "outputs": [],
   "source": []
  }
 ],
 "metadata": {
  "kernelspec": {
   "display_name": "env",
   "language": "python",
   "name": "python3"
  },
  "language_info": {
   "codemirror_mode": {
    "name": "ipython",
    "version": 3
   },
   "file_extension": ".py",
   "mimetype": "text/x-python",
   "name": "python",
   "nbconvert_exporter": "python",
   "pygments_lexer": "ipython3",
   "version": "3.10.6"
  },
  "orig_nbformat": 4,
  "vscode": {
   "interpreter": {
    "hash": "8c3f88717cf93a4c8da8acd0e5bcf255dbd88d60e6f8777ae0376341256b195c"
   }
  }
 },
 "nbformat": 4,
 "nbformat_minor": 2
}
