{
 "cells": [
  {
   "cell_type": "code",
   "execution_count": 1,
   "metadata": {},
   "outputs": [
    {
     "name": "stderr",
     "output_type": "stream",
     "text": [
      "/home/alen/Desktop/Kairos/env/lib/python3.10/site-packages/tqdm/auto.py:22: TqdmWarning: IProgress not found. Please update jupyter and ipywidgets. See https://ipywidgets.readthedocs.io/en/stable/user_install.html\n",
      "  from .autonotebook import tqdm as notebook_tqdm\n"
     ]
    }
   ],
   "source": [
    "from Kairos.notebook import Notebook\n"
   ]
  },
  {
   "cell_type": "code",
   "execution_count": 2,
   "metadata": {},
   "outputs": [],
   "source": [
    "notebook = Notebook()"
   ]
  },
  {
   "cell_type": "code",
   "execution_count": 3,
   "metadata": {},
   "outputs": [
    {
     "name": "stderr",
     "output_type": "stream",
     "text": [
      "WARNING:langchain.llms.openai:Retrying langchain.llms.openai.BaseOpenAI.completion_with_retry.<locals>._completion_with_retry in 4.0 seconds as it raised RateLimitError: That model is currently overloaded with other requests. You can retry your request, or contact us through our help center at help.openai.com if the error persists. (Please include the request ID e9821a10ba76286908096bd680b50667 in your message.).\n",
      "WARNING:langchain.llms.openai:Retrying langchain.llms.openai.BaseOpenAI.completion_with_retry.<locals>._completion_with_retry in 4.0 seconds as it raised RateLimitError: That model is currently overloaded with other requests. You can retry your request, or contact us through our help center at help.openai.com if the error persists. (Please include the request ID dd72fb4049fd53e6cd9f812744f4495f in your message.).\n",
      "WARNING:langchain.llms.openai:Retrying langchain.llms.openai.BaseOpenAI.completion_with_retry.<locals>._completion_with_retry in 4.0 seconds as it raised RateLimitError: That model is currently overloaded with other requests. You can retry your request, or contact us through our help center at help.openai.com if the error persists. (Please include the request ID 17b686adff1fe20582de74e7e9646b65 in your message.).\n"
     ]
    },
    {
     "data": {
      "text/plain": [
       "'Bitcoin is primarily designed to be an alternative to traditional currencies and hence a medium of exchange and store of value, while Ethereum is a programmable blockchain that finds application in numerous areas, including DeFi, smart contracts, and NFTs.'"
      ]
     },
     "execution_count": 3,
     "metadata": {},
     "output_type": "execute_result"
    }
   ],
   "source": [
    "notebook.run(\"What are the differences between bitcoin and ethereum?\")"
   ]
  },
  {
   "cell_type": "code",
   "execution_count": 6,
   "metadata": {},
   "outputs": [
    {
     "data": {
      "text/plain": [
       "{'id': '506d9e07-58c4-4348-96ae-49c058345552',\n",
       " 'type': 'run',\n",
       " 'input': 'What are the differences between bitcoin and ethereum?',\n",
       " 'output': 'Bitcoin is primarily designed to be an alternative to traditional currencies and hence a medium of exchange and store of value, while Ethereum is a programmable blockchain that finds application in numerous areas, including DeFi, smart contracts, and NFTs.',\n",
       " 'intermediate_steps': [{'action': {'tool': 'Google',\n",
       "    'tool_input': 'Differences between Bitcoin and Ethereum',\n",
       "    'log': ' I should research the differences between these two cryptocurrencies\\nAction: Google\\nAction Input: Differences between Bitcoin and Ethereum'},\n",
       "   'result': 'Bitcoin vs Ethereum Bitcoin (abbreviation: BTC; sign: ₿) is a decentralized digital currency that can be transferred on the peer-to-peer bitcoin network. Ethereum is a decentralized global software platform powered by blockchain technology. It is most commonly known for its native cryptocurrency, ether (ETH).'},\n",
       "  {'action': {'tool': 'Search',\n",
       "    'tool_input': 'Features of Bitcoin and Ethereum',\n",
       "    'log': ' I should compare the features of each\\nAction: Search\\nAction Input: Features of Bitcoin and Ethereum'},\n",
       "   'result': 'No source added yet.'},\n",
       "  {'action': {'tool': 'Google',\n",
       "    'tool_input': 'Features of Bitcoin and Ethereum',\n",
       "    'log': ' I should look at the features of each\\nAction: Google\\nAction Input: Features of Bitcoin and Ethereum'},\n",
       "   'result': 'Bitcoin is primarily designed to be an alternative to traditional currencies and hence a medium of exchange and store of value. Ethereum is a programmable blockchain that finds application in numerous areas, including DeFi, smart contracts, and NFTs.'}]}"
      ]
     },
     "execution_count": 6,
     "metadata": {},
     "output_type": "execute_result"
    }
   ],
   "source": [
    "notebook.generations[0].dict()"
   ]
  },
  {
   "cell_type": "code",
   "execution_count": null,
   "metadata": {},
   "outputs": [],
   "source": []
  }
 ],
 "metadata": {
  "kernelspec": {
   "display_name": "env",
   "language": "python",
   "name": "python3"
  },
  "language_info": {
   "codemirror_mode": {
    "name": "ipython",
    "version": 3
   },
   "file_extension": ".py",
   "mimetype": "text/x-python",
   "name": "python",
   "nbconvert_exporter": "python",
   "pygments_lexer": "ipython3",
   "version": "3.10.6"
  },
  "orig_nbformat": 4,
  "vscode": {
   "interpreter": {
    "hash": "9b33590f64e938357389b8fe1c30812f2a069bf88890cf889a06b6e260f6da39"
   }
  }
 },
 "nbformat": 4,
 "nbformat_minor": 2
}
